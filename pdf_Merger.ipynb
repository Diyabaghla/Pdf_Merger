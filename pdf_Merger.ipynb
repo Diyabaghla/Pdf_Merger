{
  "nbformat": 4,
  "nbformat_minor": 0,
  "metadata": {
    "colab": {
      "provenance": [],
      "authorship_tag": "ABX9TyP1EbQqqGvqXy/9tA8P4PUf",
      "include_colab_link": true
    },
    "kernelspec": {
      "name": "python3",
      "display_name": "Python 3"
    },
    "language_info": {
      "name": "python"
    }
  },
  "cells": [
    {
      "cell_type": "markdown",
      "metadata": {
        "id": "view-in-github",
        "colab_type": "text"
      },
      "source": [
        "<a href=\"https://colab.research.google.com/github/Diyabaghla/Pdf_Merger/blob/main/pdf_Merger.ipynb\" target=\"_parent\"><img src=\"https://colab.research.google.com/assets/colab-badge.svg\" alt=\"Open In Colab\"/></a>"
      ]
    },
    {
      "cell_type": "code",
      "execution_count": 13,
      "metadata": {
        "colab": {
          "base_uri": "https://localhost:8080/"
        },
        "id": "-K2mVaSUC7Lz",
        "outputId": "507dce8d-1c66-41b7-97ea-b2f86c7a849f"
      },
      "outputs": [
        {
          "output_type": "stream",
          "name": "stdout",
          "text": [
            "Requirement already satisfied: pyPDF2 in /usr/local/lib/python3.10/dist-packages (3.0.1)\n"
          ]
        }
      ],
      "source": [
        "!pip install pyPDF2"
      ]
    },
    {
      "cell_type": "code",
      "source": [
        "import PyPDF2\n",
        "import os\n",
        "\n",
        "\n",
        "# give the path to the directory containing the PDF files to be merger\n",
        "pdf_dir = '/content'\n",
        "\n",
        "# Open a new PDF file in write-binary mode\n",
        "merger = PyPDF2.PdfMerger()\n",
        "\n",
        "\n",
        "# Loop through all files in the directory\n",
        "for filename in os.listdir(pdf_dir):\n",
        "    if filename.endswith('.pdf'):\n",
        "        pdf_file = open(os.path.join(pdf_dir, filename), \"rb\")\n",
        "        with open(pdf_path,'rb') as file:\n",
        "           pdf_reader = PyPDF2.PdfReader(file)#used to read the pdf\n",
        "           merger.append(pdf_reader)  # append the pages of both files in output\n",
        "\n",
        "# Create a new PDF file to write the merged PDFs\n",
        "output_filename = 'output.pdf'\n",
        "with open(output_filename, 'wb') as output_file:\n",
        "    merger.write(output_file)#merged pdf to output_pdf\n",
        "\n",
        "print(f\"PDF files merged successfully into '{output_filename}'.\")"
      ],
      "metadata": {
        "colab": {
          "base_uri": "https://localhost:8080/"
        },
        "id": "-S-6vgnYC_j0",
        "outputId": "63a04ca6-4cee-4c7e-999e-bb20ccfd9b33"
      },
      "execution_count": 26,
      "outputs": [
        {
          "output_type": "stream",
          "name": "stdout",
          "text": [
            "PDF files merged successfully into 'output.pdf'.\n"
          ]
        }
      ]
    }
  ]
}